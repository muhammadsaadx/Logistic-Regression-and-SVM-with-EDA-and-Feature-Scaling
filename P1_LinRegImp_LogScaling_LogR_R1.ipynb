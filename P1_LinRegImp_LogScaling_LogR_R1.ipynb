{
 "cells": [
  {
   "cell_type": "markdown",
   "metadata": {},
   "source": [
    "# Import Libraries"
   ]
  },
  {
   "cell_type": "code",
   "execution_count": 1,
   "metadata": {},
   "outputs": [],
   "source": [
    "import pandas as pd\n",
    "import numpy as np\n",
    "import matplotlib.pyplot as plt\n",
    "import seaborn as sns"
   ]
  },
  {
   "cell_type": "markdown",
   "metadata": {},
   "source": [
    "# Load Dataset"
   ]
  },
  {
   "cell_type": "code",
   "execution_count": 2,
   "metadata": {},
   "outputs": [
    {
     "data": {
      "text/html": [
       "<div>\n",
       "<style scoped>\n",
       "    .dataframe tbody tr th:only-of-type {\n",
       "        vertical-align: middle;\n",
       "    }\n",
       "\n",
       "    .dataframe tbody tr th {\n",
       "        vertical-align: top;\n",
       "    }\n",
       "\n",
       "    .dataframe thead th {\n",
       "        text-align: right;\n",
       "    }\n",
       "</style>\n",
       "<table border=\"1\" class=\"dataframe\">\n",
       "  <thead>\n",
       "    <tr style=\"text-align: left;\">\n",
       "      <th></th>\n",
       "      <th>age</th>\n",
       "      <th>workclass</th>\n",
       "      <th>fnlwgt</th>\n",
       "      <th>education</th>\n",
       "      <th>education-num</th>\n",
       "      <th>marital-status</th>\n",
       "      <th>occupation</th>\n",
       "      <th>relationship</th>\n",
       "      <th>race</th>\n",
       "      <th>sex</th>\n",
       "      <th>capital-gain</th>\n",
       "      <th>capital-loss</th>\n",
       "      <th>hours-per-week</th>\n",
       "      <th>native-country</th>\n",
       "      <th>income</th>\n",
       "    </tr>\n",
       "  </thead>\n",
       "  <tbody>\n",
       "    <tr>\n",
       "      <th>0</th>\n",
       "      <td>39.0</td>\n",
       "      <td>State-gov</td>\n",
       "      <td>77516.0</td>\n",
       "      <td>Bachelors</td>\n",
       "      <td>13.0</td>\n",
       "      <td>Never-married</td>\n",
       "      <td>Adm-clerical</td>\n",
       "      <td>Not-in-family</td>\n",
       "      <td>White</td>\n",
       "      <td>Male</td>\n",
       "      <td>2174.0</td>\n",
       "      <td>NaN</td>\n",
       "      <td>40.0</td>\n",
       "      <td>United-States</td>\n",
       "      <td>&lt;=50K</td>\n",
       "    </tr>\n",
       "    <tr>\n",
       "      <th>1</th>\n",
       "      <td>50.0</td>\n",
       "      <td>Self-emp-not-inc</td>\n",
       "      <td>83311.0</td>\n",
       "      <td>Bachelors</td>\n",
       "      <td>NaN</td>\n",
       "      <td>Married-civ-spouse</td>\n",
       "      <td>Exec-managerial</td>\n",
       "      <td>Husband</td>\n",
       "      <td>White</td>\n",
       "      <td>Male</td>\n",
       "      <td>0.0</td>\n",
       "      <td>0.0</td>\n",
       "      <td>13.0</td>\n",
       "      <td>United-States</td>\n",
       "      <td>&lt;=50K</td>\n",
       "    </tr>\n",
       "    <tr>\n",
       "      <th>2</th>\n",
       "      <td>38.0</td>\n",
       "      <td>Private</td>\n",
       "      <td>215646.0</td>\n",
       "      <td>HS-grad</td>\n",
       "      <td>9.0</td>\n",
       "      <td>Divorced</td>\n",
       "      <td>NaN</td>\n",
       "      <td>Not-in-family</td>\n",
       "      <td>White</td>\n",
       "      <td>Male</td>\n",
       "      <td>0.0</td>\n",
       "      <td>0.0</td>\n",
       "      <td>40.0</td>\n",
       "      <td>United-States</td>\n",
       "      <td>&lt;=50K</td>\n",
       "    </tr>\n",
       "    <tr>\n",
       "      <th>3</th>\n",
       "      <td>53.0</td>\n",
       "      <td>Private</td>\n",
       "      <td>234721.0</td>\n",
       "      <td>11th</td>\n",
       "      <td>7.0</td>\n",
       "      <td>Married-civ-spouse</td>\n",
       "      <td>NaN</td>\n",
       "      <td>Husband</td>\n",
       "      <td>Black</td>\n",
       "      <td>Male</td>\n",
       "      <td>0.0</td>\n",
       "      <td>0.0</td>\n",
       "      <td>40.0</td>\n",
       "      <td>United-States</td>\n",
       "      <td>&lt;=50K</td>\n",
       "    </tr>\n",
       "    <tr>\n",
       "      <th>4</th>\n",
       "      <td>28.0</td>\n",
       "      <td>Private</td>\n",
       "      <td>338409.0</td>\n",
       "      <td>Bachelors</td>\n",
       "      <td>13.0</td>\n",
       "      <td>Married-civ-spouse</td>\n",
       "      <td>Prof-specialty</td>\n",
       "      <td>Wife</td>\n",
       "      <td>Black</td>\n",
       "      <td>Female</td>\n",
       "      <td>0.0</td>\n",
       "      <td>NaN</td>\n",
       "      <td>40.0</td>\n",
       "      <td>Cuba</td>\n",
       "      <td>&lt;=50K</td>\n",
       "    </tr>\n",
       "  </tbody>\n",
       "</table>\n",
       "</div>"
      ],
      "text/plain": [
       "   age  workclass           fnlwgt   education    education-num marital-status       occupation        relationship    race    sex       capital-gain  capital-loss  hours-per-week native-country  income \n",
       "0  39.0          State-gov   77516.0   Bachelors  13.0                 Never-married      Adm-clerical   Not-in-family   White     Male  2174.0        NaN           40.0             United-States   <=50K\n",
       "1  50.0   Self-emp-not-inc   83311.0   Bachelors   NaN            Married-civ-spouse   Exec-managerial         Husband   White     Male     0.0        0.0           13.0             United-States   <=50K\n",
       "2  38.0            Private  215646.0     HS-grad   9.0                      Divorced               NaN   Not-in-family   White     Male     0.0        0.0           40.0             United-States   <=50K\n",
       "3  53.0            Private  234721.0        11th   7.0            Married-civ-spouse               NaN         Husband   Black     Male     0.0        0.0           40.0             United-States   <=50K\n",
       "4  28.0            Private  338409.0   Bachelors  13.0            Married-civ-spouse    Prof-specialty            Wife   Black   Female     0.0        NaN           40.0                      Cuba   <=50K"
      ]
     },
     "execution_count": 2,
     "metadata": {},
     "output_type": "execute_result"
    }
   ],
   "source": [
    "file_path = \"adult.csv\"\n",
    "\n",
    "data = pd.read_csv(file_path)\n",
    "\n",
    "pd.set_option(\"display.max_columns\", None)\n",
    "pd.set_option(\"display.width\", 1000)\n",
    "pd.set_option(\"display.colheader_justify\", \"left\")\n",
    "\n",
    "data.head()"
   ]
  },
  {
   "cell_type": "code",
   "execution_count": 3,
   "metadata": {},
   "outputs": [
    {
     "data": {
      "text/plain": [
       "age               float64\n",
       "workclass          object\n",
       "fnlwgt            float64\n",
       "education          object\n",
       "education-num     float64\n",
       "marital-status     object\n",
       "occupation         object\n",
       "relationship       object\n",
       "race               object\n",
       "sex                object\n",
       "capital-gain      float64\n",
       "capital-loss      float64\n",
       "hours-per-week    float64\n",
       "native-country     object\n",
       "income             object\n",
       "dtype: object"
      ]
     },
     "execution_count": 3,
     "metadata": {},
     "output_type": "execute_result"
    }
   ],
   "source": [
    "data.dtypes"
   ]
  },
  {
   "cell_type": "code",
   "execution_count": 4,
   "metadata": {},
   "outputs": [
    {
     "data": {
      "text/plain": [
       "age               1628\n",
       "workclass         3256\n",
       "fnlwgt             651\n",
       "education          326\n",
       "education-num     2605\n",
       "marital-status     977\n",
       "occupation        4884\n",
       "relationship      1302\n",
       "race               163\n",
       "sex                 33\n",
       "capital-gain      1954\n",
       "capital-loss      2279\n",
       "hours-per-week    2930\n",
       "native-country    3907\n",
       "income             651\n",
       "dtype: int64"
      ]
     },
     "execution_count": 4,
     "metadata": {},
     "output_type": "execute_result"
    }
   ],
   "source": [
    "data.isnull().sum()"
   ]
  },
  {
   "cell_type": "code",
   "execution_count": 5,
   "metadata": {},
   "outputs": [],
   "source": [
    "# data = data.dropna()"
   ]
  },
  {
   "cell_type": "code",
   "execution_count": 6,
   "metadata": {},
   "outputs": [
    {
     "name": "stdout",
     "output_type": "stream",
     "text": [
      "Numerical Features:  ['age', 'fnlwgt', 'education-num', 'capital-gain', 'capital-loss', 'hours-per-week']\n",
      "Categorical Features:  ['workclass', 'education', 'marital-status', 'occupation', 'relationship', 'race', 'sex', 'native-country', 'income']\n",
      "Target Variable:  income\n"
     ]
    }
   ],
   "source": [
    "numerical_features = [feature for feature in data.columns if data[feature].dtypes != \"O\"]\n",
    "categorical_features = [feature for feature in data.columns if data[feature].dtypes == \"O\"]\n",
    "target_variable = \"income\"\n",
    "print(\"Numerical Features: \", numerical_features)\n",
    "print(\"Categorical Features: \", categorical_features)\n",
    "print(\"Target Variable: \", target_variable)"
   ]
  },
  {
   "cell_type": "markdown",
   "metadata": {},
   "source": [
    "# Linear Regression Imputation (numerical features)"
   ]
  },
  {
   "cell_type": "code",
   "execution_count": 7,
   "metadata": {},
   "outputs": [
    {
     "data": {
      "text/html": [
       "<div>\n",
       "<style scoped>\n",
       "    .dataframe tbody tr th:only-of-type {\n",
       "        vertical-align: middle;\n",
       "    }\n",
       "\n",
       "    .dataframe tbody tr th {\n",
       "        vertical-align: top;\n",
       "    }\n",
       "\n",
       "    .dataframe thead th {\n",
       "        text-align: right;\n",
       "    }\n",
       "</style>\n",
       "<table border=\"1\" class=\"dataframe\">\n",
       "  <thead>\n",
       "    <tr style=\"text-align: left;\">\n",
       "      <th></th>\n",
       "      <th>age</th>\n",
       "      <th>fnlwgt</th>\n",
       "      <th>education-num</th>\n",
       "      <th>capital-gain</th>\n",
       "      <th>capital-loss</th>\n",
       "      <th>hours-per-week</th>\n",
       "    </tr>\n",
       "  </thead>\n",
       "  <tbody>\n",
       "    <tr>\n",
       "      <th>2</th>\n",
       "      <td>38.0</td>\n",
       "      <td>215646.0</td>\n",
       "      <td>9.0</td>\n",
       "      <td>0.0</td>\n",
       "      <td>0.0</td>\n",
       "      <td>40.0</td>\n",
       "    </tr>\n",
       "    <tr>\n",
       "      <th>3</th>\n",
       "      <td>53.0</td>\n",
       "      <td>234721.0</td>\n",
       "      <td>7.0</td>\n",
       "      <td>0.0</td>\n",
       "      <td>0.0</td>\n",
       "      <td>40.0</td>\n",
       "    </tr>\n",
       "    <tr>\n",
       "      <th>6</th>\n",
       "      <td>49.0</td>\n",
       "      <td>160187.0</td>\n",
       "      <td>5.0</td>\n",
       "      <td>0.0</td>\n",
       "      <td>0.0</td>\n",
       "      <td>16.0</td>\n",
       "    </tr>\n",
       "    <tr>\n",
       "      <th>7</th>\n",
       "      <td>52.0</td>\n",
       "      <td>209642.0</td>\n",
       "      <td>9.0</td>\n",
       "      <td>0.0</td>\n",
       "      <td>0.0</td>\n",
       "      <td>45.0</td>\n",
       "    </tr>\n",
       "    <tr>\n",
       "      <th>9</th>\n",
       "      <td>42.0</td>\n",
       "      <td>159449.0</td>\n",
       "      <td>13.0</td>\n",
       "      <td>5178.0</td>\n",
       "      <td>0.0</td>\n",
       "      <td>40.0</td>\n",
       "    </tr>\n",
       "    <tr>\n",
       "      <th>...</th>\n",
       "      <td>...</td>\n",
       "      <td>...</td>\n",
       "      <td>...</td>\n",
       "      <td>...</td>\n",
       "      <td>...</td>\n",
       "      <td>...</td>\n",
       "    </tr>\n",
       "    <tr>\n",
       "      <th>32555</th>\n",
       "      <td>22.0</td>\n",
       "      <td>310152.0</td>\n",
       "      <td>10.0</td>\n",
       "      <td>0.0</td>\n",
       "      <td>0.0</td>\n",
       "      <td>40.0</td>\n",
       "    </tr>\n",
       "    <tr>\n",
       "      <th>32556</th>\n",
       "      <td>27.0</td>\n",
       "      <td>257302.0</td>\n",
       "      <td>12.0</td>\n",
       "      <td>0.0</td>\n",
       "      <td>0.0</td>\n",
       "      <td>38.0</td>\n",
       "    </tr>\n",
       "    <tr>\n",
       "      <th>32557</th>\n",
       "      <td>40.0</td>\n",
       "      <td>154374.0</td>\n",
       "      <td>9.0</td>\n",
       "      <td>0.0</td>\n",
       "      <td>0.0</td>\n",
       "      <td>40.0</td>\n",
       "    </tr>\n",
       "    <tr>\n",
       "      <th>32559</th>\n",
       "      <td>22.0</td>\n",
       "      <td>201490.0</td>\n",
       "      <td>9.0</td>\n",
       "      <td>0.0</td>\n",
       "      <td>0.0</td>\n",
       "      <td>20.0</td>\n",
       "    </tr>\n",
       "    <tr>\n",
       "      <th>32560</th>\n",
       "      <td>52.0</td>\n",
       "      <td>287927.0</td>\n",
       "      <td>9.0</td>\n",
       "      <td>15024.0</td>\n",
       "      <td>0.0</td>\n",
       "      <td>40.0</td>\n",
       "    </tr>\n",
       "  </tbody>\n",
       "</table>\n",
       "<p>22194 rows × 6 columns</p>\n",
       "</div>"
      ],
      "text/plain": [
       "       age   fnlwgt    education-num  capital-gain  capital-loss  hours-per-week\n",
       "2      38.0  215646.0   9.0               0.0       0.0           40.0          \n",
       "3      53.0  234721.0   7.0               0.0       0.0           40.0          \n",
       "6      49.0  160187.0   5.0               0.0       0.0           16.0          \n",
       "7      52.0  209642.0   9.0               0.0       0.0           45.0          \n",
       "9      42.0  159449.0  13.0            5178.0       0.0           40.0          \n",
       "...     ...       ...            ...           ...           ...             ...\n",
       "32555  22.0  310152.0  10.0               0.0       0.0           40.0          \n",
       "32556  27.0  257302.0  12.0               0.0       0.0           38.0          \n",
       "32557  40.0  154374.0   9.0               0.0       0.0           40.0          \n",
       "32559  22.0  201490.0   9.0               0.0       0.0           20.0          \n",
       "32560  52.0  287927.0   9.0           15024.0       0.0           40.0          \n",
       "\n",
       "[22194 rows x 6 columns]"
      ]
     },
     "execution_count": 7,
     "metadata": {},
     "output_type": "execute_result"
    }
   ],
   "source": [
    "clean_numerical_data = data[numerical_features].dropna()\n",
    "clean_numerical_data"
   ]
  },
  {
   "cell_type": "code",
   "execution_count": 8,
   "metadata": {},
   "outputs": [
    {
     "data": {
      "text/plain": [
       "age               0\n",
       "fnlwgt            0\n",
       "education-num     0\n",
       "capital-gain      0\n",
       "capital-loss      0\n",
       "hours-per-week    0\n",
       "dtype: int64"
      ]
     },
     "execution_count": 8,
     "metadata": {},
     "output_type": "execute_result"
    }
   ],
   "source": [
    "clean_numerical_data.isnull().sum()"
   ]
  },
  {
   "cell_type": "code",
   "execution_count": 13,
   "metadata": {},
   "outputs": [
    {
     "name": "stdout",
     "output_type": "stream",
     "text": [
      "Model for predicting age:\n",
      "Weights: [ 7.28383069e-05 -7.12321568e-02  1.78415332e-02  6.58258272e-02\n",
      "  5.18146338e-02  5.20888670e-02]\n",
      "\n",
      "Final Loss: 0.490220\n",
      "\n",
      "Model for predicting fnlwgt:\n",
      "Weights: [ 0.00142766 -0.07316197 -0.03884251  0.00894037 -0.00635977 -0.00937939]\n",
      "\n",
      "Final Loss: 0.495566\n",
      "\n",
      "Model for predicting education-num:\n",
      "Weights: [ 0.0015463   0.01850278 -0.03880151  0.10120111  0.07237997  0.12702533]\n",
      "\n",
      "Final Loss: 0.478879\n",
      "\n",
      "Model for predicting capital-gain:\n",
      "Weights: [ 0.00043084  0.06379748  0.00852997  0.10176643 -0.04026712  0.0643553 ]\n",
      "\n",
      "Final Loss: 0.487236\n",
      "\n",
      "Model for predicting capital-loss:\n",
      "Weights: [ 0.0005931   0.05531451 -0.00586503  0.07039155 -0.04307551  0.04689239]\n",
      "\n",
      "Final Loss: 0.492750\n",
      "\n",
      "Model for predicting hours-per-week:\n",
      "Weights: [-0.00074034  0.04888737 -0.00852023  0.12695219  0.06447425  0.04627174]\n",
      "\n",
      "Final Loss: 0.483688\n",
      "\n"
     ]
    }
   ],
   "source": [
    "import numpy as np\n",
    "\n",
    "# Function to standardize data\n",
    "def standardize_data(df):\n",
    "    means = df.mean()\n",
    "    stds = df.std()\n",
    "    return (df - means) / stds  \n",
    "\n",
    "# Apply Standardization\n",
    "clean_numerical_data = standardize_data(clean_numerical_data)\n",
    "\n",
    "# Hyperparameters\n",
    "learning_rate = 0.001  # Reduce learning rate\n",
    "epochs = 2500  # Number of training iterations\n",
    "\n",
    "models = {}\n",
    "loss_histories = {}  # Dictionary to store loss history for each target\n",
    "\n",
    "for target in clean_numerical_data.columns:\n",
    "    X = clean_numerical_data.drop(columns=[target]).values\n",
    "    y = clean_numerical_data[target].values.reshape(-1, 1)\n",
    "\n",
    "    X_b = np.c_[np.ones((X.shape[0], 1)), X]  # X_b is X with bias column\n",
    "\n",
    "    theta = np.random.randn(X_b.shape[1], 1) * 0.01  # Small random initialization\n",
    "\n",
    "    m = len(y)\n",
    "    loss_history = []  # Store loss for each epoch\n",
    "\n",
    "    for epoch in range(epochs):\n",
    "        predictions = X_b @ theta  # Compute predictions\n",
    "        error = predictions - y  # Compute error\n",
    "        loss = (1/(2*m)) * np.sum(error ** 2)  # Compute Mean Squared Error (MSE)\n",
    "        loss_history.append(loss)  # Store loss\n",
    "\n",
    "        gradients = (1/m) * X_b.T @ error  # Compute gradients\n",
    "        theta -= learning_rate * gradients  # Gradient Descent Update\n",
    "\n",
    "    models[target] = theta.flatten()\n",
    "    loss_histories[target] = loss_history  # Save loss history\n",
    "\n",
    "    print(f\"Model for predicting {target}:\")\n",
    "    print(f\"Weights: {theta.flatten()}\\n\")\n",
    "    print(f\"Final Loss: {loss:.6f}\\n\")\n"
   ]
  },
  {
   "cell_type": "code",
   "execution_count": 14,
   "metadata": {},
   "outputs": [
    {
     "data": {
      "image/png": "[encoded data removed]",
      "text/plain": [
       "<Figure size 1200x600 with 1 Axes>"
      ]
     },
     "metadata": {},
     "output_type": "display_data"
    }
   ],
   "source": [
    "import matplotlib.pyplot as plt\n",
    "\n",
    "# Plot loss history for each target variable\n",
    "plt.figure(figsize=(12, 6))\n",
    "\n",
    "for target, loss_history in loss_histories.items():\n",
    "    plt.plot(loss_history, label=target)\n",
    "\n",
    "plt.xlabel(\"Epochs\")\n",
    "plt.ylabel(\"Loss (MSE)\")\n",
    "plt.title(\"Loss Curve for Each Target Variable\")\n",
    "plt.legend()\n",
    "plt.grid(True)\n",
    "plt.show()\n"
   ]
  },
  {
   "cell_type": "code",
   "execution_count": null,
   "metadata": {},
   "outputs": [],
   "source": []
  },
  {
   "cell_type": "code",
   "execution_count": null,
   "metadata": {},
   "outputs": [],
   "source": []
  },
  {
   "cell_type": "code",
   "execution_count": null,
   "metadata": {},
   "outputs": [],
   "source": []
  },
  {
   "cell_type": "code",
   "execution_count": null,
   "metadata": {},
   "outputs": [],
   "source": []
  },
  {
   "cell_type": "code",
   "execution_count": null,
   "metadata": {},
   "outputs": [],
   "source": []
  },
  {
   "cell_type": "code",
   "execution_count": null,
   "metadata": {},
   "outputs": [],
   "source": []
  },
  {
   "cell_type": "code",
   "execution_count": null,
   "metadata": {},
   "outputs": [],
   "source": []
  },
  {
   "cell_type": "code",
   "execution_count": null,
   "metadata": {},
   "outputs": [],
   "source": []
  },
  {
   "cell_type": "code",
   "execution_count": null,
   "metadata": {},
   "outputs": [],
   "source": []
  },
  {
   "cell_type": "code",
   "execution_count": null,
   "metadata": {},
   "outputs": [],
   "source": []
  },
  {
   "cell_type": "code",
   "execution_count": null,
   "metadata": {},
   "outputs": [],
   "source": []
  },
  {
   "cell_type": "code",
   "execution_count": null,
   "metadata": {},
   "outputs": [],
   "source": []
  },
  {
   "cell_type": "code",
   "execution_count": null,
   "metadata": {},
   "outputs": [],
   "source": []
  },
  {
   "cell_type": "code",
   "execution_count": null,
   "metadata": {},
   "outputs": [],
   "source": []
  },
  {
   "cell_type": "code",
   "execution_count": null,
   "metadata": {},
   "outputs": [],
   "source": [
    "\n",
    "#data[target_variable] = pd.factorize(data[target_variable])[0]  \n",
    "# 0 -->  <=50K\n",
    "# 1 -->  >50K\n",
    "\n",
    "# plt.figure(figsize=(8, 5))\n",
    "# sns.scatterplot(x=data[\"age\"], y=data[target_variable], alpha=0.6)\n",
    "# sns.regplot(x=data[\"age\"], y=data[target_variable], scatter=False, color='red')  # Regression line\n",
    "# plt.title(\"Relationship Between Age and Income\")\n",
    "# plt.xlabel(\"Age\")\n",
    "# plt.ylabel(\"Income (Encoded)\")\n",
    "# plt.show()\n"
   ]
  },
  {
   "cell_type": "code",
   "execution_count": null,
   "metadata": {},
   "outputs": [],
   "source": []
  },
  {
   "cell_type": "code",
   "execution_count": null,
   "metadata": {},
   "outputs": [],
   "source": [
    "plt.figure(figsize=(6, 4))\n",
    "sns.heatmap(data[numerical_features].corr(), annot=True, cmap=\"coolwarm\", fmt=\".2f\")\n",
    "plt.title(\"Heatmap of Numerical Feature Correlations\")\n",
    "plt.show()"
   ]
  },
  {
   "cell_type": "code",
   "execution_count": null,
   "metadata": {},
   "outputs": [],
   "source": [
    "for feature in categorical_features:\n",
    "    plt.figure(figsize=(16, 4))\n",
    "    sns.countplot(x=data[feature], hue=data[feature], palette=\"viridis\", legend=False)\n",
    "    plt.title(f\"Distribution of {feature}\")\n",
    "    plt.xticks(rotation=45)\n",
    "    plt.show()"
   ]
  },
  {
   "cell_type": "code",
   "execution_count": null,
   "metadata": {},
   "outputs": [],
   "source": []
  },
  {
   "cell_type": "code",
   "execution_count": null,
   "metadata": {},
   "outputs": [],
   "source": []
  },
  {
   "cell_type": "code",
   "execution_count": null,
   "metadata": {},
   "outputs": [],
   "source": []
  },
  {
   "cell_type": "code",
   "execution_count": null,
   "metadata": {},
   "outputs": [],
   "source": []
  },
  {
   "cell_type": "code",
   "execution_count": null,
   "metadata": {},
   "outputs": [],
   "source": []
  },
  {
   "cell_type": "code",
   "execution_count": null,
   "metadata": {},
   "outputs": [],
   "source": []
  },
  {
   "cell_type": "code",
   "execution_count": null,
   "metadata": {},
   "outputs": [],
   "source": []
  },
  {
   "cell_type": "code",
   "execution_count": null,
   "metadata": {},
   "outputs": [],
   "source": []
  },
  {
   "cell_type": "code",
   "execution_count": null,
   "metadata": {},
   "outputs": [],
   "source": []
  },
  {
   "cell_type": "code",
   "execution_count": null,
   "metadata": {},
   "outputs": [],
   "source": []
  },
  {
   "cell_type": "code",
   "execution_count": null,
   "metadata": {},
   "outputs": [],
   "source": []
  },
  {
   "cell_type": "code",
   "execution_count": null,
   "metadata": {},
   "outputs": [],
   "source": []
  },
  {
   "cell_type": "code",
   "execution_count": null,
   "metadata": {},
   "outputs": [],
   "source": []
  },
  {
   "cell_type": "code",
   "execution_count": null,
   "metadata": {},
   "outputs": [],
   "source": []
  },
  {
   "cell_type": "code",
   "execution_count": null,
   "metadata": {},
   "outputs": [],
   "source": []
  }
 ],
 "metadata": {
  "kernelspec": {
   "display_name": "venv",
   "language": "python",
   "name": "python3"
  },
  "language_info": {
   "codemirror_mode": {
    "name": "ipython",
    "version": 3
   },
   "file_extension": ".py",
   "mimetype": "text/x-python",
   "name": "python",
   "nbconvert_exporter": "python",
   "pygments_lexer": "ipython3",
   "version": "3.12.4"
  }
 },
 "nbformat": 4,
 "nbformat_minor": 2
}
